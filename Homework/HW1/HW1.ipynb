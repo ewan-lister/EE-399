{
 "cells": [
  {
   "cell_type": "markdown",
   "metadata": {},
   "source": [
    "# HW 1\n",
    "### EE 399 Machine Learning for Science and Engineering\n",
    "\n",
    "Completed by: Ewan Lister on 04/03/2023\n"
   ]
  },
  {
   "cell_type": "markdown",
   "metadata": {},
   "source": [
    "Set up your own GitHub account (private) and share your Git with me and the TAs (Trung Le and Nithin Joseph): kutz@uw.edu, tle45@uw.edu, nphilipj@uw.edu\n",
    "\n",
    "Status: Done, GitHub can be accessed via this [link](https://github.com/ewan-lister/EE-399).\n"
   ]
  },
  {
   "cell_type": "markdown",
   "metadata": {},
   "source": [
    "## Problem 1\n",
    "\n",
    "Consider the data from lecture on 3/31:\n",
    "\n",
    "     X=np.arange(0,31)\n",
    "     Y=np.array([30, 35, 33, 32, 34, 37, 39, 38, 36, 36, 37, 39, 42, 45, 45, 41,\n",
    "     40, 39, 42, 44, 47, 49, 50, 49, 46, 48, 50, 53, 55, 54, 53])\n",
    "\n",
    "Fit data to a least squares metric, and this model: $ f(x) = A\\cos{Bx} + Cx + D$ \n",
    "\n",
    "(i) Write a code to find the minimum error and determine the parameters A,B,C,D.\n",
    "\n",
    "\n"
   ]
  },
  {
   "cell_type": "code",
   "execution_count": 1,
   "metadata": {},
   "outputs": [],
   "source": [
    "# imports\n",
    "import numpy as np\n",
    "import scipy.optimize as opt\n",
    "import matplotlib.pyplot as plt\n"
   ]
  },
  {
   "cell_type": "code",
   "execution_count": 20,
   "metadata": {},
   "outputs": [
    {
     "data": {
      "image/png": "[encoded data removed]",
      "text/plain": [
       "<Figure size 432x288 with 1 Axes>"
      ]
     },
     "metadata": {
      "needs_background": "light"
     },
     "output_type": "display_data"
    }
   ],
   "source": [
    "# define data\n",
    "X = np.arange(0,31)\n",
    "Y = np.array([30, 35, 33, 32, 34, 37, 39, 38, 36, 36, 37, 39, 42, 45, 45, 41,\n",
    "     40, 39, 42, 44, 47, 49, 50, 49, 46, 48, 50, 53, 55, 54, 53])\n",
    "\n",
    "# number of inputs\n",
    "num_in = len(Y)\n",
    "\n",
    "# proposed fit for data\n",
    "# accepts input value as well as models parameters (floats)\n",
    "def model(x, c):\n",
    "    y = c[0] * np.cos(c[1] * x) + (c[2] * x) + c[3]\n",
    "    return y\n",
    "\n",
    "# define the objective function for optimization\n",
    "def error(c, x, y, num_in):\n",
    "    e2 = np.sqrt((np.sum(model(x, c) - y) ** 2) / num_in)\n",
    "    return e2\n",
    "\n",
    "# set the initial guess for the parameters\n",
    "c0 = np.array([4, np.pi/3.5, 0.6, 30])\n",
    "\n",
    "# perform optimization\n",
    "res = opt.minimize(error, c0, args=(np.arange(1,num_in + 1), Y, num_in), method='Nelder-Mead')\n",
    "\n",
    "# get the optimized parameters\n",
    "c = res.x\n",
    "\n",
    "# generate the data for plotting\n",
    "tt = np.arange(1, num_in + 0.01, 0.01)\n",
    "yfit = (c[0]*np.cos(c[1]*tt)+(c[2] * tt) + c[3])\n",
    "\n",
    "# plot the raw data and the fitted curve\n",
    "plt.plot(np.arange(1, num_in + 1), Y, 'ko')\n",
    "plt.plot(tt, yfit, 'r-')\n",
    "plt.show()\n",
    "\n"
   ]
  },
  {
   "cell_type": "markdown",
   "metadata": {},
   "source": [
    "(ii) With the results of (i), fix two of the parameters and sweep through values of the other two parameters to generate a 2D loss (error) landscape. Do all combinations of two fixed parameters and two swept parameters. You can use something like pcolor to visualize the results in a grid. How many minima can you find as you sweep through parameters?\n"
   ]
  },
  {
   "cell_type": "code",
   "execution_count": null,
   "metadata": {},
   "outputs": [],
   "source": [
    "# condense previous operations into a single function fit_data for usage in proceeding\n",
    "# exercizes\n",
    "def fit_data(num_in, c0, Y):\n",
    "    # perform optimization\n",
    "    res = opt.minimize(error, c0, args=(np.arange(1,num_in + 1), Y, num_in), method='Nelder-Mead')\n",
    "    # get the optimized parameters\n",
    "    c = res.x\n",
    "    # generate the data for plotting\n",
    "    tt = np.arange(1, num_in + 0.01, 0.01)\n",
    "    yfit = (c[0]*np.cos(c[1]*tt)+(c[2] * tt) + c[3])\n",
    "    # plot the raw data and the fitted curve\n",
    "    plt.plot(np.arange(1, num_in + 1), Y, 'ko')\n",
    "    plt.plot(tt, yfit, 'r-')\n",
    "    plt.show()\n",
    "\n",
    "# manipulate c0 once more\n",
    "c0 = np.array([5, np.pi/5, 1, 30])\n",
    "\n",
    "plot_dim = 100\n",
    "plot_granularity = 10 # 10 gradations per integer\n",
    "\n",
    "# we should create an array whose indeces contain the error of the model for a given row and column\n",
    "# corresponding to c0[n] and c0[m]\n",
    "\n",
    "# accepts a 2d array of floats\n",
    "# plots array as a color map\n",
    "def plot_color(e1_array):\n",
    "    plt.pcolormesh(e1_array)\n",
    "\n",
    "# accepts model parameters c0 (list of floats)\n",
    "# as well list of idex of parameters to be swept (list of int)\n",
    "# additionally accepts array_dim and array_granularity\n",
    "# for determining dimensions of returned array and fineness\n",
    "# of array\n",
    "# returns an array containing the error of a model\n",
    "# as a function of swept parameters\n",
    "def sweep_parameters(c0, par, plot_dim, plot_granularity):\n",
    "    dim = plot_dim * plot_granularity\n",
    "    # first set up function which creates an array\n",
    "    error_array = np.zeros((dim, dim))\n",
    "\n",
    "    # iterates through zero array and initializes with swept value of error\n",
    "    # function, where chosen parameters par[0] and par[1] are x and y respectively\n",
    "    with np.nditer(error_array, op_flags=['readwrite']) as it:\n",
    "        for space in it:\n",
    "            [x, y] = it.multi_index\n",
    "            c0[par[0]] = x\n",
    "            c0[par[1]] = y\n",
    "            space[...] = error(c0, x, y, num_in)\n",
    "\n",
    "\n",
    "\n",
    "\n"
   ]
  }
 ],
 "metadata": {
  "interpreter": {
   "hash": "81dee2cd6cea41cbe3e439a16d5bc7fdfb70c699fad32b3bda38329b5ea8f91b"
  },
  "kernelspec": {
   "display_name": "Python 3.9.12 64-bit ('anaconda3': virtualenv)",
   "name": "python3"
  },
  "language_info": {
   "codemirror_mode": {
    "name": "ipython",
    "version": 3
   },
   "file_extension": ".py",
   "mimetype": "text/x-python",
   "name": "python",
   "nbconvert_exporter": "python",
   "pygments_lexer": "ipython3",
   "version": "3.9.12"
  },
  "orig_nbformat": 4
 },
 "nbformat": 4,
 "nbformat_minor": 2
}