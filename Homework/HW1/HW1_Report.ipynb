{
 "cells": [
  {
   "cell_type": "markdown",
   "metadata": {},
   "source": [
    "# HW 1 Report\n",
    "### EE 399 Machine Learning for Science and Engineering\n",
    "\n",
    "Completed by: Ewan Lister on 04/03/2023\n"
   ]
  },
  {
   "cell_type": "markdown",
   "metadata": {},
   "source": [
    "## Abstract\n",
    "\n",
    "Machine Learning often assumes the guise of a complex and mystical form of CS sorcery, but this is just isn't the case. This assignment seeks to simplify concepts of Machine Learning by presenting one of its key methods--**curve fitting**. From small to large systems, curve fitting entails creating a model, and then minimizing the error found between that model and the actual sampled data. In this assignment, we will give an in depth coverage of the theory behind curve fitting, demo some code for fitting sampled data, present results, and evaluate our methods and error. "
   ]
  },
  {
   "cell_type": "markdown",
   "metadata": {},
   "source": [
    "## Contents\n",
    "\n",
    "This report will be \n",
    "\n",
    "Title/author/abstract Title, author/address lines, and short (100 words or less) abstract. \n",
    "Sec. I. Introduction and Overview\n",
    "Sec. II. Theoretical Background\n",
    "Sec. III. Algorithm Implementation and Development \n",
    "Sec. IV. Computational Results\n",
    "Sec. V. Summary and Conclusions"
   ]
  },
  {
   "cell_type": "markdown",
   "metadata": {},
   "source": [
    "## I. Introduction and Overview\n",
    "\n",
    "Curve fitting is a ubiquitous tool used in virtually all fields of science and engineering. Typically, it seeks to find continuous approximations for data that is noisy, discrete, has a low sampling rate, or where the driving variables behind the data are unknown. By collecting data and then generating a curve fit, scientists and engineers can determine whether new models describe natural phenomena, diagnose error associated with measurement, and even overturn existing scientific models. Curve fitting does not do all the work for us, however. The technique has the caveat that we ourselves must propose a model for fitting. For example, by definition a linear fit would return a completely different function than a radical fit, meaning we would draw totally different conclusions from the data. Systems in nature do not uniformly act in terms of one elementary function. There is much variety, so we must select our idea of what the fit is, and then let the computer do the work.\n",
    "\n",
    "We will begin by covering the theoretical background of curve fitting, discussing the data, model, metric, and fitting techniques. Then, we will develop an algorithm for fitting multiple different curves to a series of data. After plotting our results, we will discuss the fits made by the algorithm and the margin of error. Finally, we will conclude with a discussion of the implications this method had for the assignment and in general.\n"
   ]
  },
  {
   "cell_type": "code",
   "execution_count": 2,
   "metadata": {},
   "outputs": [],
   "source": [
    "# import useful math and plotting libraries\n",
    "import numpy as np\n",
    "import scipy.optimize as opt\n",
    "import matplotlib.pyplot as plt"
   ]
  },
  {
   "cell_type": "markdown",
   "metadata": {},
   "source": [
    "## II. Theoretical Background\n",
    "\n",
    "The fundamental unit of consideration in curve fitting is the **model**. A model can be thought of as some sort of black box, which receives inputs, and produces outputs, similar to a function. In fact, we will use function notation to represent the models discussed from hereon. Say we want a general function which accurately describes most models.\n",
    "\n",
    "$$ Y = F(X, \\theta) $$  \n",
    "\n",
    "In the above equation, we have a function which relates the set of input measurements $X$ to the set of output measurements using the function $F(X, \\theta)$, which is a function of some sort of expression of $X$ as well as an additional set of constants $\\theta$, which are called **parameters**.  If we wanted a model which described a cartesian line, we would propose the model $Y = \\theta_{0}X + \\theta_{1}$. For those familiar with basic algebra, $\\theta_{0}$ is the slope of the line, and $\\theta_{1}$ is the y-intercept. Instead of labeling these constants as $m$ and $b$, we choose to express the parameters found in this model, and all models, as some parameter $\\theta_{n}$. This is because in the theory of machine learning, one may encounter models with trillions of parameters, and it is not feasible to associate individually significant identities with each parameter. Thus in general, one should begin to think of all models as mathematical expressions of $X$, peppered with $\\theta s$.\n",
    "\n",
    "If curve fitting is to be useful beyond the 2d world, then one must also be able to construct functions that receive multiple inputs, and produce multiples outputs. There are many systems in our world where the state of the system is highly multidimensional e.g vision, personal data,  so it is also necessary to think of $Y$ and $X$ not as measurements of a single variable, but as sets of measurements of multiple variables.\n",
    "\n",
    "Returning to the line example, let's understand what qualifies a good fit for data. Shown below are a set of points, and a line drawn through them."
   ]
  },
  {
   "cell_type": "code",
   "execution_count": 22,
   "metadata": {},
   "outputs": [
    {
     "data": {
      "text/plain": [
       "Text(0.5, 0, 'x')"
      ]
     },
     "execution_count": 22,
     "metadata": {},
     "output_type": "execute_result"
    },
    {
     "data": {
      "image/png": "[encoded data removed]",
      "text/plain": [
       "<Figure size 432x288 with 1 Axes>"
      ]
     },
     "metadata": {
      "needs_background": "light"
     },
     "output_type": "display_data"
    }
   ],
   "source": [
    "# define data\n",
    "X = np.arange(0,31)\n",
    "Y = np.array([30, 35, 33, 32, 34, 37, 39, 38, 36, 36, 37, 39, 42, 45, 45, 41,\n",
    "     40, 39, 42, 44, 47, 49, 50, 49, 46, 48, 50, 53, 55, 54, 53])\n",
    "\n",
    "# number of inputs\n",
    "num_in = len(Y)\n",
    "\n",
    "line = np.add(3 * X, 30)\n",
    "plt.plot(X, Y,'o')\n",
    "plt.plot(X, line)\n",
    "plt.ylabel('y')\n",
    "plt.xlabel('x')"
   ]
  },
  {
   "cell_type": "markdown",
   "metadata": {},
   "source": [
    "This function $y = 3x + 30$ tries, but according to any reasonable perspective, fails to fit the data. Why is it so obvious that it fails? It has a lot to do with how close the y values expressed by the line model are to the actual data. Compare this with a model of decent fit to the data:"
   ]
  },
  {
   "cell_type": "code",
   "execution_count": 23,
   "metadata": {},
   "outputs": [
    {
     "data": {
      "text/plain": [
       "Text(0.5, 0, 'x')"
      ]
     },
     "execution_count": 23,
     "metadata": {},
     "output_type": "execute_result"
    },
    {
     "data": {
      "image/png": "[encoded data removed]",
      "text/plain": [
       "<Figure size 432x288 with 1 Axes>"
      ]
     },
     "metadata": {
      "needs_background": "light"
     },
     "output_type": "display_data"
    }
   ],
   "source": [
    "line_2 = np.add(0.80 * X, 31)\n",
    "\n",
    "plt.plot(X, Y,'o')\n",
    "plt.plot(X, line_2)\n",
    "plt.ylabel('y')\n",
    "plt.xlabel('x')\n"
   ]
  },
  {
   "cell_type": "markdown",
   "metadata": {},
   "source": [
    "The $y$ values expressed by the fit $y = 0.8x + 31$ are much closer to that of the data, but exactly how should we quantify this closeness? The concept that we use to measure the accuracy of our fit is known as the **metric**. A metric can be any equation which relates the behavior of the model to the behavior of the data. Conveniently, statistics provides us with an equation which is useful for relating variant quantities (such as a model and its data), the standard deviation equation. Substituting in the error for the standard deviation, we can create an accurate metric for evaluating our models:\n",
    "\n",
    "$$ E = \\sqrt{\\frac{1}{n} \\sum_{k = 1}^n (F(x_k, \\theta) - y_k)^2}$$\n",
    "\n",
    "The result of this equation $E$ is equal to the total error between the model and the set of values $y_k$ which we chose to compare. It is not possible to construct a model which would produce the maximum error, as the amount of error can be infinite, and in any case, we are focused on finding a model that has minimum error in relation to the data. Visiting again on our high school calculus, one may recall that there is a function called the derivative, which returns the rate of change of an expression with respect to a variable. Wherever the rate of change is 0, the function is at a minimum or maximum. Our error function, when the model parameters are unknown, is purely a function of the parameters $\\theta$ when all of the other data is know. So what happens if we take the partial derivatives $\\frac{\\delta E}{\\delta\\theta}$ and $\\frac{\\delta E}{\\delta\\theta}$. Wherever these values equal 0, there is a minimum, and wherever global minimum is, is the best fit for our model.\n",
    "\n",
    "It is impractical for us to take the derivative of large models, and near impossible to solve a nonlinear set of equations proposed by the derivative of the error metric using traditional $Ax = b$ approaches. Therefore, in this assignment we use a lesser known approach for finding minima called the Nelder-Mead technique. We will not cover the technique in depth, but in short, the technique uses an n-dimensional triangle on the topology created by the error metric. Each vertex of the triangle is located at some coordinate of the parameters and the error $(E, \\theta_{n},...,\\theta_{n})$. By algorithmically moving the vertices of the triangle down or across the topology, we can eventually arrive at a good local minimum. \n",
    "\n",
    "In order to achieve good starting conditions for the Nelder-Mead method, we must also have a good idea of the range in which our desired minima sits, so a favorable approach might be to consider a reasonable range in which the parameters lie (this range is a function of the data), and then to simply generate random starting parameters within that range, and initiate the Nelder-Mead algorithm to isolate a minimum.\n",
    "\n",
    "With the above theoretical framework, we can now begin to curve fit the data using other non-linear models.\n",
    "\n",
    "## III. Algorithm Implementation and Development \n",
    "\n",
    "Consider the data from lecture on 3/31:\n",
    "\n",
    "     X=np.arange(0,31)\n",
    "     Y=np.array([30, 35, 33, 32, 34, 37, 39, 38, 36, 36, 37, 39, 42, 45, 45, 41,\n",
    "     40, 39, 42, 44, 47, 49, 50, 49, 46, 48, 50, 53, 55, 54, 53])\n",
    "\n",
    "Fit data to a least squares metric, and this model: $ f(x) = A\\cos{Bx} + Cx + D$ \n",
    "\n",
    "### (i) Write a code to find the minimum error and determine the parameters A,B,C,D.\n",
    "\n",
    "We now have the opportunity to implement our proposed model and error metric, as python functions which accept the data."
   ]
  },
  {
   "cell_type": "code",
   "execution_count": 24,
   "metadata": {},
   "outputs": [],
   "source": [
    "# proposed fit for data\n",
    "# accepts input value as well as models parameters (floats)\n",
    "def model_1(x, c):\n",
    "    y = c[0] * np.cos(c[1] * x) + (c[2] * x) + c[3]\n",
    "    return y\n",
    "\n",
    "# defines the objective function for optimization\n",
    "def error(c, x, y, num_in):\n",
    "    e2 = np.sqrt((np.sum(model_1(x, c) - y) ** 2) / num_in)\n",
    "    return e2\n"
   ]
  },
  {
   "cell_type": "markdown",
   "metadata": {},
   "source": [
    "These methods can be called to calculate modeled $y$ values based on the sampled $x$ values, which we can then use in our `error` function. Now we must create an initial set of constants. Notice that the constants are represented by values within the `c0` array."
   ]
  },
  {
   "cell_type": "code",
   "execution_count": 25,
   "metadata": {},
   "outputs": [],
   "source": [
    "# set the initial guess for the parameters\n",
    "c0 = np.array([4, np.pi/3.5, 0.6, 29])"
   ]
  },
  {
   "cell_type": "markdown",
   "metadata": {},
   "source": [
    "This guess is based on the fact that our model has 4 parameters, the average height of the sinusoidal figure is around 4, the frequency of the figure is some function of $\\pi$, and line underlying the figure seems to have a small slope and an intercept around 30. This sort of thinking is what one may need to do to begin guessing correct fits for models (but random trial and error is also possible). Now that we have a set of constants we can use it as an initial guess for the Nelder-Mead method, and plot the results."
   ]
  },
  {
   "cell_type": "code",
   "execution_count": 26,
   "metadata": {},
   "outputs": [
    {
     "data": {
      "image/png": "[encoded data removed]",
      "text/plain": [
       "<Figure size 432x288 with 1 Axes>"
      ]
     },
     "metadata": {
      "needs_background": "light"
     },
     "output_type": "display_data"
    }
   ],
   "source": [
    "# perform optimization\n",
    "res = opt.minimize(error, c0, args=(np.arange(1,num_in + 1), Y, num_in), method='Nelder-Mead')\n",
    "\n",
    "# get the optimized parameters\n",
    "c = res.x\n",
    "\n",
    "# generate the data for plotting\n",
    "tt = np.arange(1, num_in + 0.01, 0.01)\n",
    "yfit = (c[0]*np.cos(c[1]*tt)+(c[2] * tt) + c[3])\n",
    "\n",
    "# plot the raw data and the fitted curve\n",
    "plt.plot(np.arange(1, num_in + 1), Y, 'o', label='data')\n",
    "plt.plot(tt, yfit, label='fit')\n",
    "plt.title('Non-Linear Fit using Nelder-Mead Method')\n",
    "plt.show()\n"
   ]
  },
  {
   "cell_type": "markdown",
   "metadata": {},
   "source": [
    "Not so bad right? These techniques really can be used to produce good fits, but it is necessary to combine trial and error with intelligent guesswork. The "
   ]
  }
 ],
 "metadata": {
  "interpreter": {
   "hash": "81dee2cd6cea41cbe3e439a16d5bc7fdfb70c699fad32b3bda38329b5ea8f91b"
  },
  "kernelspec": {
   "display_name": "Python 3.9.12 64-bit (conda)",
   "name": "python3"
  },
  "language_info": {
   "codemirror_mode": {
    "name": "ipython",
    "version": 3
   },
   "file_extension": ".py",
   "mimetype": "text/x-python",
   "name": "python",
   "nbconvert_exporter": "python",
   "pygments_lexer": "ipython3",
   "version": "3.9.12"
  },
  "orig_nbformat": 4
 },
 "nbformat": 4,
 "nbformat_minor": 2
}