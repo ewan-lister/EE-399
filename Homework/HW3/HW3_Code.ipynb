{
 "cells": [
  {
   "cell_type": "markdown",
   "metadata": {},
   "source": [
    "# HW 3 - Analysis of the MNIST Digit Dataset\n",
    "\n",
    "**Author**: Ewan Lister\n",
    "Completed 04/19/2023\n",
    "\n",
    "In this notebook we will perform an analysis of the MNIST data set using multiple techniques.\n",
    "\n",
    "### 1. Do an SVD analysis of the digit images. You will need to reshape each image into a column vector and each column of your data matrix is a different image."
   ]
  },
  {
   "cell_type": "code",
   "execution_count": 1,
   "metadata": {},
   "outputs": [],
   "source": [
    "# imports\n",
    "import numpy as np\n",
    "from sklearn.datasets import fetch_openml\n",
    "from sklearn.decomposition import PCA\n",
    "import matplotlib.pyplot as plt"
   ]
  },
  {
   "cell_type": "code",
   "execution_count": 2,
   "metadata": {},
   "outputs": [],
   "source": [
    "# define functions for flattening and reshaping images\n",
    "# shapes grid into column\n",
    "def column(arr):\n",
    "    return arr.flatten().reshape(-1, 1)\n",
    "\n",
    "# shapes column into grid\n",
    "def grid(arr):\n",
    "    return arr.reshape(32, 32)\n",
    "\n",
    "\n"
   ]
  }
 ],
 "metadata": {
  "interpreter": {
   "hash": "81dee2cd6cea41cbe3e439a16d5bc7fdfb70c699fad32b3bda38329b5ea8f91b"
  },
  "kernelspec": {
   "display_name": "Python 3.9.12 64-bit ('anaconda3': virtualenv)",
   "name": "python3"
  },
  "language_info": {
   "codemirror_mode": {
    "name": "ipython",
    "version": 3
   },
   "file_extension": ".py",
   "mimetype": "text/x-python",
   "name": "python",
   "nbconvert_exporter": "python",
   "pygments_lexer": "ipython3",
   "version": "3.9.12"
  },
  "orig_nbformat": 4
 },
 "nbformat": 4,
 "nbformat_minor": 2
}