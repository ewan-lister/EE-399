{
 "cells": [
  {
   "cell_type": "code",
   "execution_count": 1,
   "id": "3e782a0c",
   "metadata": {},
   "outputs": [
    {
     "name": "stdout",
     "output_type": "stream",
     "text": [
      "Downloading http://yann.lecun.com/exdb/mnist/train-images-idx3-ubyte.gz\n",
      "Downloading http://yann.lecun.com/exdb/mnist/train-images-idx3-ubyte.gz to ./data/MNIST/raw/train-images-idx3-ubyte.gz\n"
     ]
    },
    {
     "name": "stderr",
     "output_type": "stream",
     "text": [
      "100%|███████████████████████████| 9912422/9912422 [00:00<00:00, 16794304.39it/s]\n"
     ]
    },
    {
     "name": "stdout",
     "output_type": "stream",
     "text": [
      "Extracting ./data/MNIST/raw/train-images-idx3-ubyte.gz to ./data/MNIST/raw\n",
      "\n",
      "Downloading http://yann.lecun.com/exdb/mnist/train-labels-idx1-ubyte.gz\n",
      "Downloading http://yann.lecun.com/exdb/mnist/train-labels-idx1-ubyte.gz to ./data/MNIST/raw/train-labels-idx1-ubyte.gz\n"
     ]
    },
    {
     "name": "stderr",
     "output_type": "stream",
     "text": [
      "100%|███████████████████████████████| 28881/28881 [00:00<00:00, 11220423.66it/s]\n"
     ]
    },
    {
     "name": "stdout",
     "output_type": "stream",
     "text": [
      "Extracting ./data/MNIST/raw/train-labels-idx1-ubyte.gz to ./data/MNIST/raw\n",
      "\n",
      "Downloading http://yann.lecun.com/exdb/mnist/t10k-images-idx3-ubyte.gz\n",
      "Downloading http://yann.lecun.com/exdb/mnist/t10k-images-idx3-ubyte.gz to ./data/MNIST/raw/t10k-images-idx3-ubyte.gz\n"
     ]
    },
    {
     "name": "stderr",
     "output_type": "stream",
     "text": [
      "100%|███████████████████████████| 1648877/1648877 [00:00<00:00, 22616103.59it/s]\n"
     ]
    },
    {
     "name": "stdout",
     "output_type": "stream",
     "text": [
      "Extracting ./data/MNIST/raw/t10k-images-idx3-ubyte.gz to ./data/MNIST/raw\n",
      "\n",
      "Downloading http://yann.lecun.com/exdb/mnist/t10k-labels-idx1-ubyte.gz\n",
      "Downloading http://yann.lecun.com/exdb/mnist/t10k-labels-idx1-ubyte.gz to ./data/MNIST/raw/t10k-labels-idx1-ubyte.gz\n"
     ]
    },
    {
     "name": "stderr",
     "output_type": "stream",
     "text": [
      "100%|██████████████████████████████████| 4542/4542 [00:00<00:00, 5663058.49it/s]\n"
     ]
    },
    {
     "name": "stdout",
     "output_type": "stream",
     "text": [
      "Extracting ./data/MNIST/raw/t10k-labels-idx1-ubyte.gz to ./data/MNIST/raw\n",
      "\n",
      "Epoch [1/10], Step [100/938], Loss: 2.2813\n",
      "Epoch [1/10], Step [200/938], Loss: 2.2373\n",
      "Epoch [1/10], Step [300/938], Loss: 2.1645\n",
      "Epoch [1/10], Step [400/938], Loss: 2.0477\n",
      "Epoch [1/10], Step [500/938], Loss: 1.8677\n",
      "Epoch [1/10], Step [600/938], Loss: 1.5770\n",
      "Epoch [1/10], Step [700/938], Loss: 1.2830\n",
      "Epoch [1/10], Step [800/938], Loss: 1.1801\n",
      "Epoch [1/10], Step [900/938], Loss: 0.9131\n",
      "Epoch [2/10], Step [100/938], Loss: 0.7312\n",
      "Epoch [2/10], Step [200/938], Loss: 0.6716\n",
      "Epoch [2/10], Step [300/938], Loss: 0.6120\n",
      "Epoch [2/10], Step [400/938], Loss: 0.4830\n",
      "Epoch [2/10], Step [500/938], Loss: 0.3282\n",
      "Epoch [2/10], Step [600/938], Loss: 0.5546\n",
      "Epoch [2/10], Step [700/938], Loss: 0.3248\n",
      "Epoch [2/10], Step [800/938], Loss: 0.3686\n",
      "Epoch [2/10], Step [900/938], Loss: 0.5335\n",
      "Epoch [3/10], Step [100/938], Loss: 0.3032\n",
      "Epoch [3/10], Step [200/938], Loss: 0.3040\n",
      "Epoch [3/10], Step [300/938], Loss: 0.3856\n",
      "Epoch [3/10], Step [400/938], Loss: 0.3389\n",
      "Epoch [3/10], Step [500/938], Loss: 0.4941\n",
      "Epoch [3/10], Step [600/938], Loss: 0.6489\n",
      "Epoch [3/10], Step [700/938], Loss: 0.4483\n",
      "Epoch [3/10], Step [800/938], Loss: 0.2624\n",
      "Epoch [3/10], Step [900/938], Loss: 0.1992\n",
      "Epoch [4/10], Step [100/938], Loss: 0.3444\n",
      "Epoch [4/10], Step [200/938], Loss: 0.4352\n",
      "Epoch [4/10], Step [300/938], Loss: 0.1940\n",
      "Epoch [4/10], Step [400/938], Loss: 0.2409\n",
      "Epoch [4/10], Step [500/938], Loss: 0.3771\n",
      "Epoch [4/10], Step [600/938], Loss: 0.3053\n",
      "Epoch [4/10], Step [700/938], Loss: 0.3908\n",
      "Epoch [4/10], Step [800/938], Loss: 0.2243\n",
      "Epoch [4/10], Step [900/938], Loss: 0.4731\n",
      "Epoch [5/10], Step [100/938], Loss: 0.1290\n",
      "Epoch [5/10], Step [200/938], Loss: 0.3056\n",
      "Epoch [5/10], Step [300/938], Loss: 0.2183\n",
      "Epoch [5/10], Step [400/938], Loss: 0.4285\n",
      "Epoch [5/10], Step [500/938], Loss: 0.2598\n",
      "Epoch [5/10], Step [600/938], Loss: 0.4402\n",
      "Epoch [5/10], Step [700/938], Loss: 0.1766\n",
      "Epoch [5/10], Step [800/938], Loss: 0.3148\n",
      "Epoch [5/10], Step [900/938], Loss: 0.2777\n",
      "Epoch [6/10], Step [100/938], Loss: 0.2402\n",
      "Epoch [6/10], Step [200/938], Loss: 0.4107\n",
      "Epoch [6/10], Step [300/938], Loss: 0.2881\n",
      "Epoch [6/10], Step [400/938], Loss: 0.3046\n",
      "Epoch [6/10], Step [500/938], Loss: 0.2134\n",
      "Epoch [6/10], Step [600/938], Loss: 0.3128\n",
      "Epoch [6/10], Step [700/938], Loss: 0.1801\n",
      "Epoch [6/10], Step [800/938], Loss: 0.1774\n",
      "Epoch [6/10], Step [900/938], Loss: 0.4626\n",
      "Epoch [7/10], Step [100/938], Loss: 0.2688\n",
      "Epoch [7/10], Step [200/938], Loss: 0.2442\n",
      "Epoch [7/10], Step [300/938], Loss: 0.2977\n",
      "Epoch [7/10], Step [400/938], Loss: 0.2495\n",
      "Epoch [7/10], Step [500/938], Loss: 0.3029\n",
      "Epoch [7/10], Step [600/938], Loss: 0.1950\n",
      "Epoch [7/10], Step [700/938], Loss: 0.2660\n",
      "Epoch [7/10], Step [800/938], Loss: 0.2957\n",
      "Epoch [7/10], Step [900/938], Loss: 0.2171\n",
      "Epoch [8/10], Step [100/938], Loss: 0.3415\n",
      "Epoch [8/10], Step [200/938], Loss: 0.3183\n",
      "Epoch [8/10], Step [300/938], Loss: 0.2910\n",
      "Epoch [8/10], Step [400/938], Loss: 0.1441\n",
      "Epoch [8/10], Step [500/938], Loss: 0.4816\n",
      "Epoch [8/10], Step [600/938], Loss: 0.3495\n",
      "Epoch [8/10], Step [700/938], Loss: 0.2542\n",
      "Epoch [8/10], Step [800/938], Loss: 0.3317\n",
      "Epoch [8/10], Step [900/938], Loss: 0.1935\n",
      "Epoch [9/10], Step [100/938], Loss: 0.1824\n",
      "Epoch [9/10], Step [200/938], Loss: 0.4673\n",
      "Epoch [9/10], Step [300/938], Loss: 0.3375\n",
      "Epoch [9/10], Step [400/938], Loss: 0.0974\n",
      "Epoch [9/10], Step [500/938], Loss: 0.2106\n",
      "Epoch [9/10], Step [600/938], Loss: 0.2484\n",
      "Epoch [9/10], Step [700/938], Loss: 0.2194\n",
      "Epoch [9/10], Step [800/938], Loss: 0.2369\n",
      "Epoch [9/10], Step [900/938], Loss: 0.3395\n",
      "Epoch [10/10], Step [100/938], Loss: 0.1423\n",
      "Epoch [10/10], Step [200/938], Loss: 0.0468\n",
      "Epoch [10/10], Step [300/938], Loss: 0.3082\n",
      "Epoch [10/10], Step [400/938], Loss: 0.3082\n",
      "Epoch [10/10], Step [500/938], Loss: 0.3318\n",
      "Epoch [10/10], Step [600/938], Loss: 0.2549\n",
      "Epoch [10/10], Step [700/938], Loss: 0.2452\n",
      "Epoch [10/10], Step [800/938], Loss: 0.4118\n",
      "Epoch [10/10], Step [900/938], Loss: 0.1400\n",
      "Accuracy of the network on the 10000 test images: 93.93 %\n"
     ]
    }
   ],
   "source": [
    "import torch\n",
    "import torch.nn as nn\n",
    "import torchvision.datasets as datasets\n",
    "import torchvision.transforms as transforms\n",
    "\n",
    "# Define the neural network architecture\n",
    "class Net(nn.Module):\n",
    "    def __init__(self):\n",
    "        super(Net, self).__init__()\n",
    "        self.fc1 = nn.Linear(784, 128)\n",
    "        self.fc2 = nn.Linear(128, 64)\n",
    "        self.fc3 = nn.Linear(64, 10)\n",
    "\n",
    "    def forward(self, x):\n",
    "        x = x.view(-1, 784) # flatten the input image\n",
    "        x = torch.relu(self.fc1(x))\n",
    "        x = torch.relu(self.fc2(x))\n",
    "        x = self.fc3(x)\n",
    "        return x\n",
    "\n",
    "# Load the MNIST dataset and apply transformations\n",
    "train_dataset = datasets.MNIST(root='./data', train=True, transform=transforms.ToTensor(), download=True)\n",
    "test_dataset = datasets.MNIST(root='./data', train=False, transform=transforms.ToTensor())\n",
    "\n",
    "# Create data loaders\n",
    "train_loader = torch.utils.data.DataLoader(dataset=train_dataset, batch_size=64, shuffle=True)\n",
    "test_loader = torch.utils.data.DataLoader(dataset=test_dataset, batch_size=64, shuffle=False)\n",
    "\n",
    "# Initialize the network and define the loss function and optimizer\n",
    "net = Net()\n",
    "criterion = nn.CrossEntropyLoss()\n",
    "optimizer = torch.optim.SGD(net.parameters(), lr=0.01)\n",
    "\n",
    "# Train the network\n",
    "num_epochs = 10\n",
    "for epoch in range(num_epochs):\n",
    "    for i, (images, labels) in enumerate(train_loader):\n",
    "        optimizer.zero_grad()\n",
    "        outputs = net(images)\n",
    "        loss = criterion(outputs, labels)\n",
    "        loss.backward()\n",
    "        optimizer.step()\n",
    "        \n",
    "        if (i+1) % 100 == 0:\n",
    "            print ('Epoch [{}/{}], Step [{}/{}], Loss: {:.4f}'.format(epoch+1, num_epochs, i+1, len(train_loader), loss.item()))\n",
    "\n",
    "# Test the network\n",
    "with torch.no_grad():\n",
    "    correct = 0\n",
    "    total = 0\n",
    "    for images, labels in test_loader:\n",
    "        outputs = net(images)\n",
    "        _, predicted = torch.max(outputs.data, 1)\n",
    "        total += labels.size(0)\n",
    "        correct += (predicted == labels).sum().item()\n",
    "        \n",
    "    print('Accuracy of the network on the 10000 test images: {} %'.format(100 * correct / total))\n"
   ]
  },
  {
   "cell_type": "code",
   "execution_count": null,
   "id": "1d544d67",
   "metadata": {},
   "outputs": [],
   "source": []
  }
 ],
 "metadata": {
  "kernelspec": {
   "display_name": "Python 3 (ipykernel)",
   "language": "python",
   "name": "python3"
  },
  "language_info": {
   "codemirror_mode": {
    "name": "ipython",
    "version": 3
   },
   "file_extension": ".py",
   "mimetype": "text/x-python",
   "name": "python",
   "nbconvert_exporter": "python",
   "pygments_lexer": "ipython3",
   "version": "3.9.7"
  }
 },
 "nbformat": 4,
 "nbformat_minor": 5
}
