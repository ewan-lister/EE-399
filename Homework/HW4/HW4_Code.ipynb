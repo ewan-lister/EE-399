{
 "cells": [
  {
   "cell_type": "markdown",
   "metadata": {},
   "source": [
    "# HW 4 - Developing Neural Network Architectures\n",
    "\n",
    "**Author**: Ewan Lister\n",
    "Completed 05/08/2023\n",
    "\n",
    "In this notebook we will use neural networks create fits for numeric data."
   ]
  },
  {
   "cell_type": "markdown",
   "metadata": {},
   "source": [
    "## I Reconsider the data from homework one:\n",
    "\n",
    "    X=np.arange(0,31)\n",
    "    Y=np.array([30, 35, 33, 32, 34, 37, 39, 38, 36, 36, 37, 39, 42, 45, 45, 41,\n",
    "    40, 39, 42, 44, 47, 49, 50, 49, 46, 48, 50, 53, 55, 54, 53])"
   ]
  },
  {
   "cell_type": "code",
   "execution_count": 24,
   "metadata": {},
   "outputs": [
    {
     "name": "stdout",
     "output_type": "stream",
     "text": [
      "{tensor([0.]): tensor([30.]), tensor([1.]): tensor([35.]), tensor([2.]): tensor([33.]), tensor([3.]): tensor([32.]), tensor([4.]): tensor([34.]), tensor([5.]): tensor([37.]), tensor([6.]): tensor([39.]), tensor([7.]): tensor([38.]), tensor([8.]): tensor([36.]), tensor([9.]): tensor([36.]), tensor([10.]): tensor([37.]), tensor([11.]): tensor([39.]), tensor([12.]): tensor([42.]), tensor([13.]): tensor([45.]), tensor([14.]): tensor([45.]), tensor([15.]): tensor([41.]), tensor([16.]): tensor([40.]), tensor([17.]): tensor([39.]), tensor([18.]): tensor([42.]), tensor([19.]): tensor([44.]), tensor([20.]): tensor([47.]), tensor([21.]): tensor([49.]), tensor([22.]): tensor([50.]), tensor([23.]): tensor([49.]), tensor([24.]): tensor([46.]), tensor([25.]): tensor([48.]), tensor([26.]): tensor([50.]), tensor([27.]): tensor([53.]), tensor([28.]): tensor([55.]), tensor([29.]): tensor([54.]), tensor([30.]): tensor([53.])}\n"
     ]
    }
   ],
   "source": [
    "# imports\n",
    "import torch\n",
    "import torch.nn as nn\n",
    "import torchvision.datasets as datasets\n",
    "import torchvision.transforms as transforms\n",
    "import scipy.io as sio\n",
    "import numpy as np\n",
    "import matplotlib.pyplot as plt\n",
    "from sklearn.linear_model import Lasso\n",
    "\n",
    "X = torch.arange(0, 31, dtype=torch.float32).reshape(-1, 1)\n",
    "Y = torch.tensor([30, 35, 33, 32, 34, 37, 39, 38, 36, 36, 37, 39, 42, 45, 45, 41,\n",
    "                  40, 39, 42, 44, 47, 49, 50, 49, 46, 48, 50, 53, 55, 54, 53],\n",
    "                 dtype=torch.float32).reshape(-1, 1)\n",
    "\n",
    "data = dict(zip(X, Y))\n",
    "\n",
    "print(data)\n"
   ]
  },
  {
   "cell_type": "markdown",
   "metadata": {},
   "source": [
    "### (i) Fit the data to a three layer feed forward neural network."
   ]
  },
  {
   "cell_type": "code",
   "execution_count": 54,
   "metadata": {},
   "outputs": [
    {
     "name": "stdout",
     "output_type": "stream",
     "text": [
      "Epoch [1/15], Step [31/31], Loss: 2566.2896\n",
      "Epoch [2/15], Step [31/31], Loss: 2253.1060\n",
      "Epoch [3/15], Step [31/31], Loss: 842.2803\n",
      "Epoch [4/15], Step [31/31], Loss: 15.4006\n",
      "Epoch [5/15], Step [31/31], Loss: 12.0758\n",
      "Epoch [6/15], Step [31/31], Loss: 12.0206\n",
      "Epoch [7/15], Step [31/31], Loss: 9.8867\n",
      "Epoch [8/15], Step [31/31], Loss: 10.8064\n",
      "Epoch [9/15], Step [31/31], Loss: 11.9087\n",
      "Epoch [10/15], Step [31/31], Loss: 11.8223\n",
      "Epoch [11/15], Step [31/31], Loss: 9.7253\n",
      "Epoch [12/15], Step [31/31], Loss: 10.2602\n",
      "Epoch [13/15], Step [31/31], Loss: 9.8915\n",
      "Epoch [14/15], Step [31/31], Loss: 10.5323\n",
      "Epoch [15/15], Step [31/31], Loss: 10.3956\n"
     ]
    }
   ],
   "source": [
    "# Define the neural network architecture\n",
    "class ThreeLayerNet(nn.Module):\n",
    "    def __init__(self):\n",
    "        super().__init__()\n",
    "        self.fc1 = nn.Linear(1, 10)  # input layer -> hidden layer\n",
    "        self.fc2 = nn.Linear(10, 10) # hidden layer -> hidden layer\n",
    "        self.fc3 = nn.Linear(10, 1)  # hidden layer -> output layer\n",
    "        \n",
    "    def forward(self, x):\n",
    "        x = torch.relu(self.fc1(x))\n",
    "        x = torch.relu(self.fc2(x))\n",
    "        x = self.fc3(x)\n",
    "        return x\n",
    "\n",
    "# initialize network\n",
    "net = ThreeLayerNet()\n",
    "\n",
    "# use SGD for fitting\n",
    "optimizer = torch.optim.SGD(net.parameters(), lr=0.001)\n",
    "\n",
    "# loss function\n",
    "criterion = nn.MSELoss()\n",
    "\n",
    "# create training data loader\n",
    "train_loader = torch.utils.data.DataLoader(dataset=data, batch_size=1, shuffle=True)\n",
    "\n",
    "\n",
    "# Train the neural network using gradient descent\n",
    "num_epochs = 15\n",
    "for epoch in range(num_epochs):\n",
    "    for i, (x) in enumerate(X):\n",
    "        optimizer.zero_grad()\n",
    "        outputs = net(x)\n",
    "        loss = criterion(outputs, Y[i])\n",
    "        loss.backward()\n",
    "        optimizer.step()\n",
    "        \n",
    "        if (i + 1) % 31 == 0:\n",
    "            print ('Epoch [{}/{}], Step [{}/{}], Loss: {:.4f}'.format(epoch+1, num_epochs, i+1, 31, loss.item()))\n",
    "\n"
   ]
  },
  {
   "cell_type": "markdown",
   "metadata": {},
   "source": [
    "### (ii) Using the first 20 data points as training data, fit the neural network. Compute the least-square error for each of these over the training points. Then compute the least square error of these models on the test data which are the remaining 10 data points."
   ]
  },
  {
   "cell_type": "code",
   "execution_count": 55,
   "metadata": {},
   "outputs": [
    {
     "name": "stdout",
     "output_type": "stream",
     "text": [
      "Error for x = tensor([0.]), y = tensor([30.]) : 0.0065\n",
      "Error for x = tensor([1.]), y = tensor([35.]) : 5.6075\n",
      "Error for x = tensor([2.]), y = tensor([33.]) : 0.2177\n",
      "Error for x = tensor([3.]), y = tensor([32.]) : 6.3447\n",
      "Error for x = tensor([4.]), y = tensor([34.]) : 2.4687\n",
      "Error for x = tensor([5.]), y = tensor([37.]) : 0.1417\n",
      "Error for x = tensor([6.]), y = tensor([39.]) : 1.7534\n",
      "Error for x = tensor([7.]), y = tensor([38.]) : 0.5303\n",
      "Error for x = tensor([8.]), y = tensor([36.]) : 14.2900\n",
      "Error for x = tensor([9.]), y = tensor([36.]) : 23.3344\n",
      "Error for x = tensor([10.]), y = tensor([37.]) : 23.2196\n",
      "Error for x = tensor([11.]), y = tensor([39.]) : 7.9449\n",
      "Error for x = tensor([12.]), y = tensor([42.]) : 0.0329\n",
      "Error for x = tensor([13.]), y = tensor([45.]) : 10.1209\n",
      "Error for x = tensor([14.]), y = tensor([45.]) : 10.1209\n",
      "Error for x = tensor([15.]), y = tensor([41.]) : 0.6702\n",
      "Error for x = tensor([16.]), y = tensor([40.]) : 3.3076\n",
      "Error for x = tensor([17.]), y = tensor([39.]) : 7.9449\n",
      "Error for x = tensor([18.]), y = tensor([42.]) : 0.0329\n",
      "Error for x = tensor([19.]), y = tensor([44.]) : 4.7582\n"
     ]
    }
   ],
   "source": [
    "# isolate first 20 data points\n",
    "x_train = X[0:20]\n",
    "y_train = Y[0:20]\n",
    "x_test = X[20:31]\n",
    "y_test = Y[20:31]\n",
    "\n",
    "# train network on first 20 data points, examine progress of SGD via print statements\n",
    "num_epochs = 15\n",
    "for epoch in range(num_epochs):\n",
    "    for i, (x) in enumerate(x_train):\n",
    "        optimizer.zero_grad()\n",
    "        outputs = net(x)\n",
    "        loss = criterion(outputs, y_train[i])\n",
    "        loss.backward()\n",
    "        optimizer.step()\n",
    "        \n",
    "        if (i + 1) % 31 == 0:\n",
    "            print ('Epoch [{}/{}], Step [{}/{}], Loss: {:.4f}'.format(epoch+1, num_epochs, i+1, 31, loss.item()))\n",
    "\n",
    "for i, (x) in enumerate(x_train):\n",
    "    outputs = net(x)\n",
    "    error = criterion(outputs, y_train[i])\n",
    "    print('Train error for x = {}, y = {} : {:.4f}'.format(x, y_train[i], error))\n",
    "\n",
    "for i, (x) in enumerate(x_test):\n",
    "    outputs = net(x)\n",
    "    error = criterion(outputs, y_test[i])\n",
    "    print('Test error for x = {}, y = {} : {:.4f}'.format(x, y_test[i], error))"
   ]
  },
  {
   "cell_type": "markdown",
   "metadata": {},
   "source": [
    "### (iii) Repeat (iii) but use the first 10 and last 10 data points as training data. Then fit the model to the test data (which are the 10 held out middle data points). Compare these results to (iii)\n"
   ]
  },
  {
   "cell_type": "markdown",
   "metadata": {},
   "source": [
    "\n",
    "\n",
    "### (iv) Compare the models fit in homework one to the neural networks in (ii) and (iii)\n",
    "\n",
    "## II Now train a feedforward neural network on the MNIST data set. You will start by performing the following analysis:\n",
    "\n",
    "### (i) Compute the first 20 PCA modes of the digit images.\n",
    "\n",
    "### (ii) Build a feed-forward neural network to classify the digits. Compare the results of the neural network against LSTM, SVM (support vector machines) and decision tree classifiers."
   ]
  }
 ],
 "metadata": {
  "interpreter": {
   "hash": "81dee2cd6cea41cbe3e439a16d5bc7fdfb70c699fad32b3bda38329b5ea8f91b"
  },
  "kernelspec": {
   "display_name": "Python 3.9.12 64-bit (conda)",
   "name": "python3"
  },
  "language_info": {
   "codemirror_mode": {
    "name": "ipython",
    "version": 3
   },
   "file_extension": ".py",
   "mimetype": "text/x-python",
   "name": "python",
   "nbconvert_exporter": "python",
   "pygments_lexer": "ipython3",
   "version": "3.9.12"
  },
  "orig_nbformat": 4
 },
 "nbformat": 4,
 "nbformat_minor": 2
}