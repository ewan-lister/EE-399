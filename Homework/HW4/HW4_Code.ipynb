{
 "cells": [
  {
   "cell_type": "markdown",
   "metadata": {},
   "source": [
    "# HW 4 - Developing Neural Network Architectures\n",
    "\n",
    "**Author**: Ewan Lister\n",
    "Completed 05/08/2023\n",
    "\n",
    "In this notebook we will use neural networks create fits for numeric data."
   ]
  },
  {
   "cell_type": "markdown",
   "metadata": {},
   "source": [
    "## I Reconsider the data from homework one:\n",
    "\n",
    "    X=np.arange(0,31)\n",
    "    Y=np.array([30, 35, 33, 32, 34, 37, 39, 38, 36, 36, 37, 39, 42, 45, 45, 41,\n",
    "    40, 39, 42, 44, 47, 49, 50, 49, 46, 48, 50, 53, 55, 54, 53])"
   ]
  },
  {
   "cell_type": "code",
   "execution_count": 1,
   "metadata": {},
   "outputs": [],
   "source": [
    "# imports\n",
    "import torch\n",
    "import torch.nn as nn\n",
    "import torchvision.datasets as datasets\n",
    "import torchvision.transforms as transforms\n",
    "import scipy.io as sio\n",
    "import numpy as np\n",
    "import matplotlib.pyplot as plt\n",
    "from sklearn.linear_model import Lasso\n",
    "from sklearn.decomposition import PCA\n",
    "from scipy.io import loadmat\n",
    "from sklearn.datasets import fetch_openml\n",
    "\n",
    "X = torch.arange(0, 31, dtype=torch.float32).reshape(-1, 1)\n",
    "Y = torch.tensor([30, 35, 33, 32, 34, 37, 39, 38, 36, 36, 37, 39, 42, 45, 45, 41,\n",
    "                  40, 39, 42, 44, 47, 49, 50, 49, 46, 48, 50, 53, 55, 54, 53],\n",
    "                 dtype=torch.float32).reshape(-1, 1)\n",
    "\n",
    "data = dict(zip(X, Y))"
   ]
  },
  {
   "cell_type": "markdown",
   "metadata": {},
   "source": [
    "### (i) Fit the data to a three layer feed forward neural network."
   ]
  },
  {
   "cell_type": "code",
   "execution_count": 2,
   "metadata": {},
   "outputs": [
    {
     "name": "stdout",
     "output_type": "stream",
     "text": [
      "Epoch [1/9], Step [31/31], Loss: 3.0444\n",
      "Epoch [2/9], Step [31/31], Loss: 3.1098\n",
      "Epoch [3/9], Step [31/31], Loss: 3.1608\n",
      "Epoch [4/9], Step [31/31], Loss: 3.1953\n",
      "Epoch [5/9], Step [31/31], Loss: 3.2096\n",
      "Epoch [6/9], Step [31/31], Loss: 3.1999\n",
      "Epoch [7/9], Step [31/31], Loss: 3.1619\n",
      "Epoch [8/9], Step [31/31], Loss: 3.0908\n",
      "Epoch [9/9], Step [31/31], Loss: 2.9823\n"
     ]
    },
    {
     "data": {
      "image/png": "[encoded data removed]",
      "text/plain": [
       "<Figure size 432x288 with 1 Axes>"
      ]
     },
     "metadata": {
      "needs_background": "light"
     },
     "output_type": "display_data"
    }
   ],
   "source": [
    "# Define the neural network architecture\n",
    "class ThreeLayerNet(nn.Module):\n",
    "    def __init__(self):\n",
    "        super().__init__()\n",
    "        self.fc1 = nn.Linear(1, 10)  # input layer -> hidden layer\n",
    "        self.fc2 = nn.Linear(10, 20) # hidden layer -> hidden layer\n",
    "        self.fc3 = nn.Linear(20, 1)  # hidden layer -> output layer\n",
    "        \n",
    "    def forward(self, x):\n",
    "        x = torch.relu(self.fc1(x))\n",
    "        x = torch.relu(self.fc2(x))\n",
    "        x = self.fc3(x)\n",
    "        return x\n",
    "\n",
    "# initialize network\n",
    "net = ThreeLayerNet()\n",
    "\n",
    "\n",
    "# create a visualization\n",
    "#vis_graph = make_dot(output, params=dict(net.named_parameters()))\n",
    "#vis_graph.view()\n",
    "w = 'white'\n",
    "lr = 0.0001\n",
    "# use SGD for fitting\n",
    "optimizer = torch.optim.SGD(net.parameters(), lr=lr)\n",
    "\n",
    "# loss function\n",
    "criterion = nn.MSELoss()\n",
    "\n",
    "# create training data loader\n",
    "train_loader = torch.utils.data.DataLoader(dataset=data, batch_size=1, shuffle=True)\n",
    "\n",
    "loss_values = []\n",
    "\n",
    "# Train the neural network using gradient descent\n",
    "num_epochs = 9\n",
    "\n",
    "for epoch in range(num_epochs):\n",
    "    running_loss = 0.0\n",
    "\n",
    "    for i, (x) in enumerate(X):\n",
    "        optimizer.zero_grad()\n",
    "        outputs = net(x)\n",
    "        loss = criterion(outputs, Y[i])\n",
    "        loss.backward()\n",
    "        optimizer.step()\n",
    "\n",
    "        running_loss += loss.item()\n",
    "\n",
    "        if (i + 1) % 31 == 0:\n",
    "            print('Epoch [{}/{}], Step [{}/{}], Loss: {:.4f}'.format(epoch+1, num_epochs, i+1, len(train_loader), loss.item()))\n",
    "\n",
    "    epoch_loss = running_loss / len(train_loader)\n",
    "    loss_values.append(epoch_loss)\n",
    "\n",
    "# Plot the loss values with legend\n",
    "plt.plot(np.log(loss_values), label='Learning Rate: {}'.format(lr))\n",
    "plt.xlabel('Epoch')\n",
    "plt.ylabel('Loss')\n",
    "plt.title('Loss per Epoch for FNN 1')\n",
    "plt.legend()\n",
    "plt.savefig('./Figures/fnnepochs.jpg', facecolor=w)\n",
    "plt.show()"
   ]
  },
  {
   "cell_type": "markdown",
   "metadata": {},
   "source": [
    "### (ii) Using the first 20 data points as training data, fit the neural network. Compute the least-square error for each of these over the training points. Then compute the least square error of these models on the test data which are the remaining 10 data points."
   ]
  },
  {
   "cell_type": "code",
   "execution_count": 4,
   "metadata": {},
   "outputs": [
    {
     "name": "stdout",
     "output_type": "stream",
     "text": [
      "Epoch [1/20], Step [20/20], Loss: 47.2205\n",
      "Epoch [2/20], Step [20/20], Loss: 28.9419\n",
      "Epoch [3/20], Step [20/20], Loss: 23.0335\n",
      "Epoch [4/20], Step [20/20], Loss: 19.6296\n",
      "Epoch [5/20], Step [20/20], Loss: 14.9549\n",
      "Epoch [6/20], Step [20/20], Loss: 10.0724\n",
      "Epoch [7/20], Step [20/20], Loss: 8.6310\n",
      "Epoch [8/20], Step [20/20], Loss: 7.4541\n",
      "Epoch [9/20], Step [20/20], Loss: 6.5989\n",
      "Epoch [10/20], Step [20/20], Loss: 5.5798\n",
      "Epoch [11/20], Step [20/20], Loss: 4.9353\n",
      "Epoch [12/20], Step [20/20], Loss: 4.6076\n",
      "Epoch [13/20], Step [20/20], Loss: 4.5170\n",
      "Epoch [14/20], Step [20/20], Loss: 4.4361\n",
      "Epoch [15/20], Step [20/20], Loss: 4.3853\n",
      "Epoch [16/20], Step [20/20], Loss: 4.3274\n",
      "Epoch [17/20], Step [20/20], Loss: 4.3696\n",
      "Epoch [18/20], Step [20/20], Loss: 4.3839\n",
      "Epoch [19/20], Step [20/20], Loss: 4.3907\n",
      "Epoch [20/20], Step [20/20], Loss: 4.3979\n"
     ]
    },
    {
     "data": {
      "image/png": "[encoded data removed]",
      "text/plain": [
       "<Figure size 432x288 with 1 Axes>"
      ]
     },
     "metadata": {
      "needs_background": "light"
     },
     "output_type": "display_data"
    },
    {
     "name": "stdout",
     "output_type": "stream",
     "text": [
      "Train error for x = tensor([0.]), y = tensor([30.]) : 2.4741\n",
      "Train error for x = tensor([1.]), y = tensor([35.]) : 4.5587\n",
      "Train error for x = tensor([2.]), y = tensor([33.]) : 0.0046\n",
      "Train error for x = tensor([3.]), y = tensor([32.]) : 3.9770\n",
      "Train error for x = tensor([4.]), y = tensor([34.]) : 0.9396\n",
      "Train error for x = tensor([5.]), y = tensor([37.]) : 1.1141\n",
      "Train error for x = tensor([6.]), y = tensor([39.]) : 4.3281\n",
      "Train error for x = tensor([7.]), y = tensor([38.]) : 0.0111\n",
      "Train error for x = tensor([8.]), y = tensor([36.]) : 8.2283\n",
      "Train error for x = tensor([9.]), y = tensor([36.]) : 14.7263\n",
      "Train error for x = tensor([10.]), y = tensor([37.]) : 14.4948\n",
      "Train error for x = tensor([11.]), y = tensor([39.]) : 7.7155\n",
      "Train error for x = tensor([12.]), y = tensor([42.]) : 0.0049\n",
      "Train error for x = tensor([13.]), y = tensor([45.]) : 8.5868\n",
      "Train error for x = tensor([14.]), y = tensor([45.]) : 8.5868\n",
      "Train error for x = tensor([15.]), y = tensor([41.]) : 1.1442\n",
      "Train error for x = tensor([16.]), y = tensor([40.]) : 4.2836\n",
      "Train error for x = tensor([17.]), y = tensor([39.]) : 9.4230\n",
      "Train error for x = tensor([18.]), y = tensor([42.]) : 0.0049\n",
      "Train error for x = tensor([19.]), y = tensor([44.]) : 3.7261\n",
      "Train error for all data: tensor(4.9166, grad_fn=<DivBackward0>)\n",
      "\n",
      "\n",
      "Test error for x = tensor([20.]), y = tensor([47.]) : 24.3080\n",
      "Test error for x = tensor([21.]), y = tensor([49.]) : 48.0293\n",
      "Test error for x = tensor([22.]), y = tensor([50.]) : 62.8899\n",
      "Test error for x = tensor([23.]), y = tensor([49.]) : 48.3117\n",
      "Test error for x = tensor([24.]), y = tensor([46.]) : 15.8123\n",
      "Test error for x = tensor([25.]), y = tensor([48.]) : 36.0272\n",
      "Test error for x = tensor([26.]), y = tensor([50.]) : 64.4499\n",
      "Test error for x = tensor([27.]), y = tensor([53.]) : 122.1881\n",
      "Test error for x = tensor([28.]), y = tensor([55.]) : 171.0780\n",
      "Test error for x = tensor([29.]), y = tensor([54.]) : 146.5452\n",
      "Test error for x = tensor([30.]), y = tensor([53.]) : 123.9225\n",
      "Train error for all data: tensor(43.1781, grad_fn=<DivBackward0>)\n"
     ]
    }
   ],
   "source": [
    "def check_train_test_error(x_train, y_train, x_test, y_test):\n",
    "    train_size = x_train.size(0)\n",
    "    test_size = x_train.size(0)\n",
    "    error_sum = 0\n",
    "    for i, (x) in enumerate(x_train):\n",
    "        outputs = net(x)\n",
    "        error = criterion(outputs, y_train[i])\n",
    "        error_sum += error\n",
    "        print('Train error for x = {}, y = {} : {:.4f}'.format(x, y_train[i], error))\n",
    "\n",
    "    print('Train error for all data: ' + str(error_sum / train_size))\n",
    "    print('\\n')\n",
    "    error_sum = 0\n",
    "    for i, (x) in enumerate(x_test):\n",
    "        outputs = net(x)\n",
    "        error = criterion(outputs, y_test[i])\n",
    "        error_sum += error\n",
    "        print('Test error for x = {}, y = {} : {:.4f}'.format(x, y_test[i], error))\n",
    "    print('Train error for all data: ' + str(error_sum / test_size))\n",
    "\n",
    "# isolate first 20 data points\n",
    "x_train = X[0:20]\n",
    "y_train = Y[0:20]\n",
    "x_test = X[20:31]\n",
    "y_test = Y[20:31]\n",
    "\n",
    "loss_values = []\n",
    "lr = 0.0005\n",
    "optimizer = torch.optim.SGD(net.parameters(), lr=lr)\n",
    "\n",
    "\n",
    "# train network on first 20 data points, examine progress of SGD via print statements\n",
    "num_epochs = 20\n",
    "for epoch in range(num_epochs):\n",
    "    running_loss = 0.0\n",
    "    for i, (x) in enumerate(x_train):\n",
    "        optimizer.zero_grad()\n",
    "        outputs = net(x)\n",
    "        loss = criterion(outputs, y_train[i])\n",
    "        loss.backward()\n",
    "        optimizer.step()\n",
    "\n",
    "        running_loss += loss.item()\n",
    "        \n",
    "        if (i + 1) % 20 == 0:\n",
    "            print ('Epoch [{}/{}], Step [{}/{}], Loss: {:.4f}'.format(epoch+1, num_epochs, i+1, 20, loss.item()))\n",
    "    epoch_loss = running_loss / len(train_loader)\n",
    "    loss_values.append(epoch_loss)\n",
    "\n",
    "\n",
    "# Plot the loss values with legend\n",
    "plt.plot(loss_values, label='Learning Rate: {}'.format(lr))\n",
    "plt.xlabel('Epoch')\n",
    "plt.ylabel('Loss')\n",
    "plt.title('Loss per Epoch for FNN 2')\n",
    "plt.legend()\n",
    "plt.savefig('./Figures/fnnepochs2.jpg', facecolor=w)\n",
    "plt.show()\n",
    "\n",
    "check_train_test_error(x_train, y_train, x_test, y_test)"
   ]
  },
  {
   "cell_type": "markdown",
   "metadata": {},
   "source": [
    "### (iii) Repeat (iii) but use the first 10 and last 10 data points as training data. Then fit the model to the test data (which are the 10 held out middle data points). Compare these results to (iii)"
   ]
  },
  {
   "cell_type": "code",
   "execution_count": 74,
   "metadata": {},
   "outputs": [
    {
     "name": "stdout",
     "output_type": "stream",
     "text": [
      "Epoch [1/20], Step [20/20], Loss: 2.1040\n",
      "Epoch [2/20], Step [20/20], Loss: 2.1260\n",
      "Epoch [3/20], Step [20/20], Loss: 2.1465\n",
      "Epoch [4/20], Step [20/20], Loss: 2.1655\n",
      "Epoch [5/20], Step [20/20], Loss: 2.1831\n",
      "Epoch [6/20], Step [20/20], Loss: 2.1992\n",
      "Epoch [7/20], Step [20/20], Loss: 2.2140\n",
      "Epoch [8/20], Step [20/20], Loss: 2.2273\n",
      "Epoch [9/20], Step [20/20], Loss: 2.2394\n",
      "Epoch [10/20], Step [20/20], Loss: 2.2502\n",
      "Epoch [11/20], Step [20/20], Loss: 2.2597\n",
      "Epoch [12/20], Step [20/20], Loss: 2.2679\n",
      "Epoch [13/20], Step [20/20], Loss: 2.2751\n",
      "Epoch [14/20], Step [20/20], Loss: 2.2811\n",
      "Epoch [15/20], Step [20/20], Loss: 2.2859\n",
      "Epoch [16/20], Step [20/20], Loss: 2.2896\n",
      "Epoch [17/20], Step [20/20], Loss: 2.2923\n",
      "Epoch [18/20], Step [20/20], Loss: 2.2940\n",
      "Epoch [19/20], Step [20/20], Loss: 2.2946\n",
      "Epoch [20/20], Step [20/20], Loss: 2.2943\n"
     ]
    },
    {
     "data": {
      "image/png": "[encoded data removed]",
      "text/plain": [
       "<Figure size 432x288 with 1 Axes>"
      ]
     },
     "metadata": {
      "needs_background": "light"
     },
     "output_type": "display_data"
    },
    {
     "name": "stdout",
     "output_type": "stream",
     "text": [
      "Train error for x = tensor([0.]), y = tensor([30.]) : 524.2375\n",
      "Train error for x = tensor([1.]), y = tensor([35.]) : 320.2751\n",
      "Train error for x = tensor([2.]), y = tensor([33.]) : 395.8601\n",
      "Train error for x = tensor([3.]), y = tensor([32.]) : 436.6525\n",
      "Train error for x = tensor([4.]), y = tensor([34.]) : 357.0676\n",
      "Train error for x = tensor([5.]), y = tensor([37.]) : 252.6902\n",
      "Train error for x = tensor([6.]), y = tensor([39.]) : 193.1053\n",
      "Train error for x = tensor([7.]), y = tensor([38.]) : 221.8978\n",
      "Train error for x = tensor([8.]), y = tensor([36.]) : 285.4827\n",
      "Train error for x = tensor([9.]), y = tensor([36.]) : 285.4827\n",
      "Train error for x = tensor([20.]), y = tensor([47.]) : 34.7656\n",
      "Train error for x = tensor([21.]), y = tensor([49.]) : 15.1806\n",
      "Train error for x = tensor([22.]), y = tensor([50.]) : 8.3882\n",
      "Train error for x = tensor([23.]), y = tensor([49.]) : 15.1806\n",
      "Train error for x = tensor([24.]), y = tensor([46.]) : 47.5580\n",
      "Train error for x = tensor([25.]), y = tensor([48.]) : 23.9731\n",
      "Train error for x = tensor([26.]), y = tensor([50.]) : 8.3882\n",
      "Train error for x = tensor([27.]), y = tensor([53.]) : 0.0108\n",
      "Train error for x = tensor([28.]), y = tensor([55.]) : 4.4258\n",
      "Train error for x = tensor([29.]), y = tensor([54.]) : 1.2183\n",
      "Train error for x = tensor([30.]), y = tensor([53.]) : 0.0108\n",
      "\n",
      "\n",
      "Test error for x = tensor([10.]), y = tensor([37.]) : 252.6902\n",
      "Test error for x = tensor([11.]), y = tensor([39.]) : 193.1053\n",
      "Test error for x = tensor([12.]), y = tensor([42.]) : 118.7279\n",
      "Test error for x = tensor([13.]), y = tensor([45.]) : 62.3505\n",
      "Test error for x = tensor([14.]), y = tensor([45.]) : 62.3505\n",
      "Test error for x = tensor([15.]), y = tensor([41.]) : 141.5204\n",
      "Test error for x = tensor([16.]), y = tensor([40.]) : 166.3128\n",
      "Test error for x = tensor([17.]), y = tensor([39.]) : 193.1053\n",
      "Test error for x = tensor([18.]), y = tensor([42.]) : 118.7279\n",
      "Test error for x = tensor([19.]), y = tensor([44.]) : 79.1430\n"
     ]
    }
   ],
   "source": [
    "# isolate first and last 10 training points\n",
    "x_train = torch.cat([X[0:10], X[20:31]])\n",
    "y_train = torch.cat([Y[0:10], Y[20:31]])\n",
    "x_test = X[10:20]\n",
    "y_test = Y[10:20]\n",
    "\n",
    "\n",
    "loss_values = []\n",
    "lr = 0.01\n",
    "optimizer = torch.optim.SGD(net.parameters(), lr=lr)\n",
    "\n",
    "# train network on first and last 10 data points, examine progress of SGD via print statements\n",
    "num_epochs = 20\n",
    "for epoch in range(num_epochs):\n",
    "    running_loss = 0\n",
    "    for i, (x) in enumerate(x_train):\n",
    "        optimizer.zero_grad()\n",
    "        outputs = net(x)\n",
    "        loss = criterion(outputs, y_train[i])\n",
    "        loss.backward()\n",
    "        optimizer.step()\n",
    "        running_loss += loss.item()\n",
    "        \n",
    "        if (i + 1) % 20 == 0:\n",
    "            print ('Epoch [{}/{}], Step [{}/{}], Loss: {:.4f}'.format(epoch+1, num_epochs, i+1, 20, loss.item()))\n",
    "    epoch_loss = running_loss / len(train_loader)\n",
    "    loss_values.append(epoch_loss)\n",
    "\n",
    "# Plot the loss values with legend\n",
    "plt.plot(np.log(loss_values), label='Learning Rate: {}'.format(lr))\n",
    "plt.xlabel('Epoch')\n",
    "plt.ylabel('Loss')\n",
    "plt.title('Loss per Epoch for FNN 3')\n",
    "plt.legend()\n",
    "plt.savefig('./Figures/fnnepochs3.jpg', facecolor=w)\n",
    "plt.show()\n",
    "\n",
    "check_train_test_error(x_train, y_train, x_test, y_test)"
   ]
  },
  {
   "cell_type": "markdown",
   "metadata": {},
   "source": [
    "### (iv) Compare the models fit in homework one to the neural networks in (ii) and (iii)\n",
    "\n",
    "Similarly to the curve fitting in homework 1, the neural network does a poor job of making any extrapolations about its test data if the data is outside of the domain of the training data. For example, the network did well when test data contained the 10 points between point 9 and point 20, but poorly when the test data was that from 20 to 31, which is unbounded by any training data. Thus is performs very similarly to the curve fitting in homework 1. However, the loss, for each value is still much greater in the case of the neural network."
   ]
  },
  {
   "cell_type": "markdown",
   "metadata": {},
   "source": [
    "\n",
    "## II Now train a feedforward neural network on the MNIST data set. You will start by performing the following analysis:\n",
    "\n",
    "### (i) Compute the first 20 PCA modes of the digit images.\n"
   ]
  },
  {
   "cell_type": "code",
   "execution_count": 75,
   "metadata": {},
   "outputs": [
    {
     "name": "stdout",
     "output_type": "stream",
     "text": [
      "(70000, 784)\n"
     ]
    }
   ],
   "source": [
    "# fetch MNIST dataset\n",
    "mnist = fetch_openml('mnist_784', version=1)\n",
    "\n",
    "# Convert the data and labels into numpy arrays\n",
    "data = np.array(mnist['data'])\n",
    "labels = np.array(mnist['target'])\n",
    "\n",
    "# apply PCA transformation onto the first 20 modes\n",
    "pca = PCA(n_components=20)\n",
    "\n",
    "print(np.shape(data))\n",
    "data_pca_1 = pca.fit_transform(data)"
   ]
  },
  {
   "cell_type": "code",
   "execution_count": 76,
   "metadata": {},
   "outputs": [
    {
     "name": "stdout",
     "output_type": "stream",
     "text": [
      "(70000, 20)\n",
      "(70000,)\n"
     ]
    }
   ],
   "source": [
    "from sklearn.model_selection import train_test_split\n",
    "print(np.shape(data_pca_1))\n",
    "print(np.shape(labels))"
   ]
  },
  {
   "cell_type": "markdown",
   "metadata": {},
   "source": [
    "\n",
    "### (ii) Build a feed-forward neural network to classify the digits. Compare the results of the neural network against LSTM, SVM (support vector machines) and decision tree classifiers."
   ]
  },
  {
   "cell_type": "code",
   "execution_count": 77,
   "metadata": {},
   "outputs": [],
   "source": [
    "# separate training and test data for use in LSTM, SVM, and DTC classifiers\n",
    "data_train, data_test, label_train, label_test = train_test_split(data_pca_1, labels, test_size=0.3, random_state=42)\n",
    "\n",
    "# convert labels to ints\n",
    "label_train = label_train.astype(np.int16)\n",
    "label_test = label_test.astype(np.int16)"
   ]
  },
  {
   "cell_type": "markdown",
   "metadata": {},
   "source": [
    "### testing neural network on MNIST data"
   ]
  },
  {
   "cell_type": "code",
   "execution_count": 91,
   "metadata": {},
   "outputs": [
    {
     "name": "stdout",
     "output_type": "stream",
     "text": [
      "Epoch 0 [25472/60000 (42%)]\tLoss: 0.121338\n",
      "Epoch 0 [51072/60000 (85%)]\tLoss: 0.196303\n",
      "Epoch 1 [25472/60000 (42%)]\tLoss: 0.153338\n",
      "Epoch 1 [51072/60000 (85%)]\tLoss: 0.270683\n",
      "Epoch 2 [25472/60000 (42%)]\tLoss: 0.131280\n",
      "Epoch 2 [51072/60000 (85%)]\tLoss: 0.251824\n",
      "Epoch 3 [25472/60000 (42%)]\tLoss: 0.091827\n",
      "Epoch 3 [51072/60000 (85%)]\tLoss: 0.057270\n",
      "Epoch 4 [25472/60000 (42%)]\tLoss: 0.039609\n",
      "Epoch 4 [51072/60000 (85%)]\tLoss: 0.067414\n",
      "Epoch 5 [25472/60000 (42%)]\tLoss: 0.018008\n",
      "Epoch 5 [51072/60000 (85%)]\tLoss: 0.098646\n",
      "Epoch 6 [25472/60000 (42%)]\tLoss: 0.024843\n",
      "Epoch 6 [51072/60000 (85%)]\tLoss: 0.047225\n",
      "Epoch 7 [25472/60000 (42%)]\tLoss: 0.034803\n",
      "Epoch 7 [51072/60000 (85%)]\tLoss: 0.064765\n",
      "Epoch 8 [25472/60000 (42%)]\tLoss: 0.064595\n",
      "Epoch 8 [51072/60000 (85%)]\tLoss: 0.059254\n",
      "Epoch 9 [25472/60000 (42%)]\tLoss: 0.058160\n",
      "Epoch 9 [51072/60000 (85%)]\tLoss: 0.098641\n"
     ]
    }
   ],
   "source": [
    "import torch\n",
    "import torch.nn as nn\n",
    "import torch.optim as optim\n",
    "from torchvision import datasets, transforms\n",
    "\n",
    "# Define the hyperparameters\n",
    "batch_size = 128\n",
    "loss_values = []\n",
    "lr = 0.01\n",
    "num_epochs = 10\n",
    "\n",
    "# Download and prepare the MNIST dataset\n",
    "train_dataset = datasets.MNIST(root='./data', train=True, transform=transforms.ToTensor(), download=True)\n",
    "test_dataset = datasets.MNIST(root='./data', train=False, transform=transforms.ToTensor())\n",
    "\n",
    "# Create data loaders for the training and testing datasets\n",
    "train_loader = torch.utils.data.DataLoader(train_dataset, batch_size=batch_size, shuffle=True)\n",
    "test_loader = torch.utils.data.DataLoader(test_dataset, batch_size=batch_size, shuffle=False)\n",
    "\n",
    "# Define the model architecture\n",
    "class FeedforwardNN(nn.Module):\n",
    "    def __init__(self):\n",
    "        super(FeedforwardNN, self).__init__()\n",
    "        self.fc1 = nn.Linear(784, 256)\n",
    "        self.fc2 = nn.Linear(256, 128)\n",
    "        self.fc3 = nn.Linear(128, 10)\n",
    "        \n",
    "    def forward(self, x):\n",
    "        x = x.view(-1, 784)\n",
    "        x = torch.relu(self.fc1(x))\n",
    "        x = torch.relu(self.fc2(x))\n",
    "        x = self.fc3(x)\n",
    "        return x\n",
    "\n",
    "# Initialize the model and optimizer\n",
    "model = FeedforwardNN()\n",
    "optimizer = optim.Adam(model.parameters(), lr=lr)\n",
    "\n",
    "# Train the model\n",
    "for epoch in range(num_epochs):\n",
    "    running_loss = 0\n",
    "    for batch_idx, (data, target) in enumerate(train_loader):\n",
    "        optimizer.zero_grad()\n",
    "        output = model(data)\n",
    "        loss = nn.CrossEntropyLoss()(output, target)\n",
    "        loss.backward()\n",
    "        optimizer.step()\n",
    "        \n",
    "        running_loss += loss.item()\n",
    "        if (batch_idx + 1) % 200 == 0:\n",
    "            print('Epoch {} [{}/{} ({:.0f}%)]\\tLoss: {:.6f}'.format(\n",
    "                epoch, batch_idx * len(data), len(train_loader.dataset),\n",
    "                100. * batch_idx / len(train_loader), loss.item()))\n",
    "    epoch_loss = running_loss / len(train_loader)\n",
    "    loss_values.append(epoch_loss)\n",
    "\n"
   ]
  },
  {
   "cell_type": "code",
   "execution_count": 86,
   "metadata": {},
   "outputs": [
    {
     "data": {
      "image/png": "[encoded data removed]",
      "text/plain": [
       "<Figure size 432x288 with 1 Axes>"
      ]
     },
     "metadata": {
      "needs_background": "light"
     },
     "output_type": "display_data"
    },
    {
     "name": "stdout",
     "output_type": "stream",
     "text": [
      "Test set: Average loss: 0.0013, Accuracy: 9672/10000 (97%)\n"
     ]
    }
   ],
   "source": [
    "# Plot the loss values with legend\n",
    "plt.plot(loss_values, label='Learning Rate: {}'.format(lr))\n",
    "plt.xlabel('Epoch')\n",
    "plt.ylabel('Loss')\n",
    "plt.title('Loss per Epoch for FNN on MNIST')\n",
    "plt.legend()\n",
    "plt.savefig('./Figures/fnnMNIST1.jpg', facecolor=w)\n",
    "plt.show()   \n",
    "\n",
    "# Evaluate the model on the test set\n",
    "test_loss = 0\n",
    "correct = 0\n",
    "with torch.no_grad():\n",
    "    for data, target in test_loader:\n",
    "        output = model(data)\n",
    "        test_loss += nn.CrossEntropyLoss()(output, target).item()\n",
    "        pred = output.argmax(dim=1, keepdim=True)\n",
    "        correct += pred.eq(target.view_as(pred)).sum().item()\n",
    "\n",
    "test_loss /= len(test_loader.dataset)\n",
    "accuracy = 100. * correct / len(test_loader.dataset)\n",
    "print('Test set: Average loss: {:.4f}, Accuracy: {}/{} ({:.0f}%)'.format(\n",
    "    test_loss, correct, len(test_loader.dataset), accuracy))"
   ]
  },
  {
   "cell_type": "code",
   "execution_count": null,
   "metadata": {},
   "outputs": [],
   "source": []
  },
  {
   "cell_type": "markdown",
   "metadata": {},
   "source": [
    "### testing LSTM on MNIST data"
   ]
  },
  {
   "cell_type": "code",
   "execution_count": 89,
   "metadata": {},
   "outputs": [
    {
     "name": "stdout",
     "output_type": "stream",
     "text": [
      "Epoch 0 [25472/60000 (42%)]\tLoss: 0.170353\n",
      "Epoch 0 [51072/60000 (85%)]\tLoss: 0.221762\n",
      "Epoch 1 [25472/60000 (42%)]\tLoss: 0.145798\n",
      "Epoch 1 [51072/60000 (85%)]\tLoss: 0.175868\n",
      "Epoch 2 [25472/60000 (42%)]\tLoss: 0.092263\n",
      "Epoch 2 [51072/60000 (85%)]\tLoss: 0.040271\n",
      "Epoch 3 [25472/60000 (42%)]\tLoss: 0.043687\n",
      "Epoch 3 [51072/60000 (85%)]\tLoss: 0.019803\n",
      "Epoch 4 [25472/60000 (42%)]\tLoss: 0.050533\n",
      "Epoch 4 [51072/60000 (85%)]\tLoss: 0.004677\n",
      "Epoch 5 [25472/60000 (42%)]\tLoss: 0.023416\n",
      "Epoch 5 [51072/60000 (85%)]\tLoss: 0.026353\n",
      "Epoch 6 [25472/60000 (42%)]\tLoss: 0.014642\n",
      "Epoch 6 [51072/60000 (85%)]\tLoss: 0.006110\n",
      "Epoch 7 [25472/60000 (42%)]\tLoss: 0.027255\n",
      "Epoch 7 [51072/60000 (85%)]\tLoss: 0.081340\n",
      "Epoch 8 [25472/60000 (42%)]\tLoss: 0.023404\n",
      "Epoch 8 [51072/60000 (85%)]\tLoss: 0.024893\n",
      "Epoch 9 [25472/60000 (42%)]\tLoss: 0.026854\n",
      "Epoch 9 [51072/60000 (85%)]\tLoss: 0.017468\n"
     ]
    }
   ],
   "source": [
    "import torch\n",
    "import torch.nn as nn\n",
    "import torch.optim as optim\n",
    "from torchvision import datasets, transforms\n",
    "\n",
    "# Define the hyperparameters\n",
    "batch_size = 128\n",
    "num_epochs = 10\n",
    "hidden_size = 64\n",
    "num_layers = 2\n",
    "\n",
    "# Define the hyperparameters\n",
    "loss_values = []\n",
    "lr = 0.01\n",
    "\n",
    "# Download and prepare the MNIST dataset\n",
    "train_dataset = datasets.MNIST(root='./data', train=True, transform=transforms.ToTensor(), download=True)\n",
    "test_dataset = datasets.MNIST(root='./data', train=False, transform=transforms.ToTensor())\n",
    "\n",
    "# Create data loaders for the training and testing datasets\n",
    "train_loader = torch.utils.data.DataLoader(train_dataset, batch_size=batch_size, shuffle=True)\n",
    "test_loader = torch.utils.data.DataLoader(test_dataset, batch_size=batch_size, shuffle=False)\n",
    "\n",
    "# Define the LSTM architecture\n",
    "class LSTM(nn.Module):\n",
    "    def __init__(self):\n",
    "        super(LSTM, self).__init__()\n",
    "        self.lstm = nn.LSTM(input_size=28, hidden_size=hidden_size, num_layers=num_layers, batch_first=True)\n",
    "        self.fc = nn.Linear(hidden_size, 10)\n",
    "        \n",
    "    def forward(self, x):\n",
    "        h0 = torch.zeros(num_layers, x.size(0), hidden_size).to(x.device)\n",
    "        c0 = torch.zeros(num_layers, x.size(0), hidden_size).to(x.device)\n",
    "        out, (h_n, c_n) = self.lstm(x, (h0, c0))\n",
    "        out = self.fc(h_n[-1])\n",
    "        return out\n",
    "\n",
    "# Initialize the model and optimizer\n",
    "model = LSTM()\n",
    "optimizer = optim.Adam(model.parameters(), lr=lr)\n",
    "\n",
    "# Train the model\n",
    "for epoch in range(num_epochs):\n",
    "    running_loss = 0\n",
    "    for batch_idx, (data, target) in enumerate(train_loader):\n",
    "        optimizer.zero_grad()\n",
    "        data = data = data.view(data.shape[0], 28, 28)\n",
    "        output = model(data)\n",
    "        loss = nn.CrossEntropyLoss()(output, target)\n",
    "        loss.backward()\n",
    "        optimizer.step()\n",
    "        \n",
    "        running_loss += loss.item()\n",
    "\n",
    "        if (batch_idx + 1) % 200 == 0:\n",
    "            print('Epoch {} [{}/{} ({:.0f}%)]\\tLoss: {:.6f}'.format(\n",
    "                epoch, batch_idx * len(data), len(train_loader.dataset),\n",
    "                100. * batch_idx / len(train_loader), loss.item()))\n",
    "    epoch_loss = running_loss / len(train_loader)\n",
    "    loss_values.append(epoch_loss)\n",
    "\n"
   ]
  },
  {
   "cell_type": "code",
   "execution_count": 90,
   "metadata": {},
   "outputs": [
    {
     "data": {
      "image/png": "[encoded data removed]",
      "text/plain": [
       "<Figure size 432x288 with 1 Axes>"
      ]
     },
     "metadata": {
      "needs_background": "light"
     },
     "output_type": "display_data"
    },
    {
     "name": "stdout",
     "output_type": "stream",
     "text": [
      "Test set: Average loss: 0.0005, Accuracy: 9797/10000 (98%)\n"
     ]
    }
   ],
   "source": [
    "\n",
    "# Plot the loss values with legend\n",
    "plt.plot(loss_values, label='Learning Rate: {}'.format(lr))\n",
    "plt.xlabel('Epoch')\n",
    "plt.ylabel('Loss')\n",
    "plt.title('Loss per Epoch for LSTM on MNIST')\n",
    "plt.legend()\n",
    "plt.savefig('./Figures/lstmMNIST1.jpg', facecolor=w)\n",
    "plt.show()   \n",
    "\n",
    "# Evaluate the model on the test set\n",
    "test_loss = 0\n",
    "correct = 0\n",
    "with torch.no_grad():\n",
    "    for data, target in test_loader:\n",
    "        data = data.view(data.shape[0], 28, 28)\n",
    "        output = model(data)\n",
    "        test_loss += nn.CrossEntropyLoss()(output, target).item()\n",
    "        pred = output.argmax(dim=1, keepdim=True)\n",
    "        correct += pred.eq(target.view_as(pred)).sum().item()\n",
    "\n",
    "test_loss /= len(test_loader.dataset)\n",
    "accuracy = 100. * correct / len(test_loader.dataset)\n",
    "print('Test set: Average loss: {:.4f}, Accuracy: {}/{} ({:.0f}%)'.format(\n",
    "    test_loss, correct, len(test_loader.dataset), accuracy))\n"
   ]
  },
  {
   "cell_type": "markdown",
   "metadata": {},
   "source": [
    "### fitting an SVM classifier"
   ]
  },
  {
   "cell_type": "code",
   "execution_count": null,
   "metadata": {},
   "outputs": [
    {
     "name": "stdout",
     "output_type": "stream",
     "text": [
      "Accuracy for SVM: 0.97\n"
     ]
    }
   ],
   "source": [
    "from sklearn.metrics import accuracy_score\n",
    "from sklearn.svm import SVC\n",
    "# Train a linear classifier\n",
    "clf = SVC()\n",
    "clf.fit(data_train, label_train)\n",
    "\n",
    "# Evaluate the performance on the test set\n",
    "y_pred = clf.predict(data_test)\n",
    "acc = accuracy_score(label_test, y_pred)\n",
    "print(f\"Accuracy for SVM: {acc:.2f}\")"
   ]
  },
  {
   "cell_type": "markdown",
   "metadata": {},
   "source": [
    "### fitting a DTC classifier"
   ]
  },
  {
   "cell_type": "code",
   "execution_count": null,
   "metadata": {},
   "outputs": [
    {
     "name": "stdout",
     "output_type": "stream",
     "text": [
      "Accuracy for DTC: 0.84\n"
     ]
    }
   ],
   "source": [
    "from sklearn.tree import DecisionTreeClassifier\n",
    "\n",
    "# Train a DTC classifier\n",
    "clf = DecisionTreeClassifier()\n",
    "clf.fit(data_train, label_train)\n",
    "\n",
    "# Evaluate the performance on the test set\n",
    "y_pred = clf.predict(data_test)\n",
    "acc = accuracy_score(label_test, y_pred)\n",
    "print(f\"Accuracy for DTC: {acc:.2f}\")"
   ]
  },
  {
   "cell_type": "markdown",
   "metadata": {},
   "source": []
  },
  {
   "cell_type": "markdown",
   "metadata": {},
   "source": []
  }
 ],
 "metadata": {
  "interpreter": {
   "hash": "81dee2cd6cea41cbe3e439a16d5bc7fdfb70c699fad32b3bda38329b5ea8f91b"
  },
  "kernelspec": {
   "display_name": "Python 3.9.12 64-bit (conda)",
   "name": "python3"
  },
  "language_info": {
   "name": "python",
   "version": ""
  },
  "orig_nbformat": 4
 },
 "nbformat": 4,
 "nbformat_minor": 2
}